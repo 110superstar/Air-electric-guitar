{
 "cells": [
  {
   "cell_type": "markdown",
   "metadata": {},
   "source": [
    "# 1. Install and Import Dependencies"
   ]
  },
  {
   "cell_type": "code",
   "execution_count": 1,
   "metadata": {},
   "outputs": [],
   "source": [
    "#!pip install mediapipe opencv-python"
   ]
  },
  {
   "cell_type": "code",
   "execution_count": 5,
   "metadata": {},
   "outputs": [],
   "source": [
    "import mediapipe as mp\n",
    "import cv2\n",
    "import numpy as np\n",
    "import uuid\n",
    "import os\n",
    "\n",
    "mp_drawing = mp.solutions.drawing_utils\n",
    "mp_hands = mp.solutions.hands\n",
    "mp_drawing_styles = mp.solutions.drawing_styles"
   ]
  },
  {
   "cell_type": "markdown",
   "metadata": {},
   "source": [
    "# 2. Draw Hands\n",
    "<img src=https://i.imgur.com/qpRACer.png />"
   ]
  },
  {
   "cell_type": "code",
   "execution_count": null,
   "metadata": {
    "scrolled": true
   },
   "outputs": [],
   "source": [
    "cap = cv2.VideoCapture(0)\n",
    "with mp_hands.Hands(\n",
    "    max_num_hands = 2,\n",
    "    model_complexity = 1,\n",
    "    min_detection_confidence=0.5,\n",
    "    min_tracking_confidence=0.5) as hands:\n",
    "    \n",
    "    while cap.isOpened():\n",
    "        success, frame = cap.read()\n",
    "        if not success:\n",
    "            print(\"Ignoring empty camera frame.\")\n",
    "            continue\n",
    "\n",
    "        # BGR 2 RGB\n",
    "        image = cv2.cvtColor(frame, cv2.COLOR_BGR2RGB)\n",
    "        \n",
    "        # Flip on horizontal\n",
    "        image = cv2.flip(image, 1)\n",
    "        \n",
    "        # To improve performance, set flag\n",
    "        image.flags.writeable = False\n",
    "        \n",
    "        # Detections\n",
    "        results = hands.process(image)\n",
    "        \n",
    "        # RGB 2 BGR\n",
    "        image = cv2.cvtColor(image, cv2.COLOR_RGB2BGR)\n",
    "        \n",
    "        # Draw the hand annotations on the image.\n",
    "        image.flags.writeable = True\n",
    "            \n",
    "        if results.multi_hand_landmarks:\n",
    "            for hand_landmarks in results.multi_hand_landmarks:\n",
    "                mp_drawing.draw_landmarks(\n",
    "                    image,\n",
    "                    hand_landmarks,\n",
    "                    mp_hands.HAND_CONNECTIONS,\n",
    "                    mp_drawing_styles.get_default_hand_landmarks_style(),\n",
    "                    mp_drawing_styles.get_default_hand_connections_style())\n",
    "                \n",
    "        \n",
    "        cv2.imshow('MediaPipe Hands', cv2.flip(image, 1))\n",
    "        if cv2.waitKey(10) & 0xFF == ord('q'):\n",
    "            break\n",
    "\n",
    "cap.release()\n",
    "cv2.destroyAllWindows()"
   ]
  },
  {
   "cell_type": "code",
   "execution_count": null,
   "metadata": {},
   "outputs": [],
   "source": [
    "mp_drawing.DrawingSpec??"
   ]
  },
  {
   "cell_type": "markdown",
   "metadata": {},
   "source": [
    "# 3. Output Images "
   ]
  },
  {
   "cell_type": "code",
   "execution_count": null,
   "metadata": {},
   "outputs": [],
   "source": [
    "# Start coordinate, here (0, 0)\n",
    "# represents the top left corner of image\n",
    "start_point = (0, 0)\n",
    "  \n",
    "# End coordinate, here (250, 250)\n",
    "# represents the bottom right corner of image\n",
    "end_point = (250, 250)\n",
    "  \n",
    "# Green color in BGR\n",
    "color = (0, 255, 0)\n",
    "  \n",
    "# Line thickness of 9 px\n",
    "thickness = 9\n",
    "  \n",
    "# Using cv2.line() method\n",
    "# Draw a diagonal green line with thickness of 9 px\n",
    "image = cv2.line(image, start_point, end_point, color, thickness)\n",
    "  \n",
    "# Displaying the image \n",
    "cv2.imshow(window_name, image) "
   ]
  },
  {
   "cell_type": "code",
   "execution_count": null,
   "metadata": {},
   "outputs": [],
   "source": [
    "os.mkdir('Output Images')"
   ]
  },
  {
   "cell_type": "code",
   "execution_count": 55,
   "metadata": {},
   "outputs": [
    {
     "name": "stdout",
     "output_type": "stream",
     "text": [
      "left_WRIST_y_coord:  0.8906258344650269\n",
      "coords:  427\n",
      "left_WRIST_y_coord:  0.8908527493476868\n",
      "coords:  427\n",
      "left_WRIST_y_coord:  0.8653783202171326\n",
      "coords:  415\n",
      "left_WRIST_y_coord:  0.8407109975814819\n",
      "coords:  403\n",
      "left_WRIST_y_coord:  0.8269771933555603\n",
      "coords:  396\n",
      "left_WRIST_y_coord:  0.7774845957756042\n",
      "coords:  373\n",
      "left_WRIST_y_coord:  0.460798054933548\n",
      "coords:  221\n",
      "left_WRIST_y_coord:  0.44190514087677\n",
      "coords:  212\n",
      "left_WRIST_y_coord:  0.43198758363723755\n",
      "coords:  207\n",
      "left_WRIST_y_coord:  0.4272388219833374\n",
      "coords:  205\n",
      "left_WRIST_y_coord:  0.42982685565948486\n",
      "coords:  206\n",
      "left_WRIST_y_coord:  0.4570175111293793\n",
      "coords:  219\n",
      "left_WRIST_y_coord:  0.4600605368614197\n",
      "coords:  220\n",
      "left_WRIST_y_coord:  0.4667220711708069\n",
      "coords:  224\n",
      "left_WRIST_y_coord:  0.47579169273376465\n",
      "coords:  228\n",
      "left_WRIST_y_coord:  0.480782687664032\n",
      "coords:  230\n",
      "left_WRIST_y_coord:  0.48642635345458984\n",
      "coords:  233\n",
      "left_WRIST_y_coord:  0.49459514021873474\n",
      "coords:  237\n",
      "left_WRIST_y_coord:  0.5313146114349365\n",
      "coords:  255\n",
      "left_WRIST_y_coord:  0.5478971004486084\n",
      "coords:  262\n",
      "left_WRIST_y_coord:  0.5601644515991211\n",
      "coords:  268\n",
      "left_WRIST_y_coord:  0.5750200748443604\n",
      "coords:  276\n",
      "left_WRIST_y_coord:  0.590298056602478\n",
      "coords:  283\n",
      "left_WRIST_y_coord:  0.6038888692855835\n",
      "coords:  289\n",
      "left_WRIST_y_coord:  0.659781277179718\n",
      "coords:  316\n",
      "left_WRIST_y_coord:  0.6725214123725891\n",
      "coords:  322\n",
      "left_WRIST_y_coord:  0.684086799621582\n",
      "coords:  328\n",
      "left_WRIST_y_coord:  0.6897286772727966\n",
      "coords:  331\n",
      "left_WRIST_y_coord:  0.6919201612472534\n",
      "coords:  332\n",
      "left_WRIST_y_coord:  0.6927701234817505\n",
      "coords:  332\n",
      "left_WRIST_y_coord:  0.6893830895423889\n",
      "coords:  330\n",
      "left_WRIST_y_coord:  0.6665884256362915\n",
      "coords:  319\n",
      "left_WRIST_y_coord:  0.6573651432991028\n",
      "coords:  315\n",
      "left_WRIST_y_coord:  0.6507302522659302\n",
      "coords:  312\n",
      "left_WRIST_y_coord:  0.6448743343353271\n",
      "coords:  309\n",
      "left_WRIST_y_coord:  0.6396374106407166\n",
      "coords:  307\n",
      "left_WRIST_y_coord:  0.6349233984947205\n",
      "coords:  304\n",
      "left_WRIST_y_coord:  0.6233434677124023\n",
      "coords:  299\n",
      "left_WRIST_y_coord:  0.6180199384689331\n",
      "coords:  296\n",
      "left_WRIST_y_coord:  0.61430424451828\n",
      "coords:  294\n",
      "left_WRIST_y_coord:  0.6109302639961243\n",
      "coords:  293\n",
      "left_WRIST_y_coord:  0.6088250875473022\n",
      "coords:  292\n",
      "left_WRIST_y_coord:  0.6071261167526245\n",
      "coords:  291\n",
      "left_WRIST_y_coord:  0.6104635000228882\n",
      "coords:  293\n",
      "left_WRIST_y_coord:  0.6118199229240417\n",
      "coords:  293\n",
      "left_WRIST_y_coord:  0.6133232116699219\n",
      "coords:  294\n",
      "left_WRIST_y_coord:  0.6144195199012756\n",
      "coords:  294\n",
      "left_WRIST_y_coord:  0.6146609783172607\n",
      "coords:  295\n",
      "left_WRIST_y_coord:  0.6161491274833679\n",
      "coords:  295\n",
      "left_WRIST_y_coord:  0.6228733062744141\n",
      "coords:  298\n",
      "left_WRIST_y_coord:  0.6256842017173767\n",
      "coords:  300\n",
      "left_WRIST_y_coord:  0.626773476600647\n",
      "coords:  300\n",
      "left_WRIST_y_coord:  0.6288413405418396\n",
      "coords:  301\n",
      "left_WRIST_y_coord:  0.6298525333404541\n",
      "coords:  302\n",
      "left_WRIST_y_coord:  0.6304486989974976\n",
      "coords:  302\n",
      "left_WRIST_y_coord:  0.6305426955223083\n",
      "coords:  302\n",
      "left_WRIST_y_coord:  0.6308029294013977\n",
      "coords:  302\n",
      "left_WRIST_y_coord:  0.6305511593818665\n",
      "coords:  302\n",
      "left_WRIST_y_coord:  0.6312170028686523\n",
      "coords:  302\n",
      "left_WRIST_y_coord:  0.6321104764938354\n",
      "coords:  303\n",
      "left_WRIST_y_coord:  0.6362294554710388\n",
      "coords:  305\n",
      "left_WRIST_y_coord:  0.6380535960197449\n",
      "coords:  306\n",
      "left_WRIST_y_coord:  0.6380445957183838\n",
      "coords:  306\n",
      "left_WRIST_y_coord:  0.636860191822052\n",
      "coords:  305\n",
      "left_WRIST_y_coord:  0.6362508535385132\n",
      "coords:  305\n",
      "left_WRIST_y_coord:  0.6351771950721741\n",
      "coords:  304\n",
      "left_WRIST_y_coord:  0.6339399814605713\n",
      "coords:  304\n",
      "left_WRIST_y_coord:  0.6352246999740601\n",
      "coords:  304\n",
      "left_WRIST_y_coord:  0.6361463069915771\n",
      "coords:  305\n",
      "left_WRIST_y_coord:  0.6391510963439941\n",
      "coords:  306\n",
      "left_WRIST_y_coord:  0.6380322575569153\n",
      "coords:  306\n",
      "left_WRIST_y_coord:  0.6372824907302856\n",
      "coords:  305\n",
      "left_WRIST_y_coord:  0.6338096261024475\n",
      "coords:  304\n",
      "left_WRIST_y_coord:  0.6310290098190308\n",
      "coords:  302\n",
      "left_WRIST_y_coord:  0.6277702450752258\n",
      "coords:  301\n",
      "left_WRIST_y_coord:  0.6271169185638428\n",
      "coords:  301\n",
      "left_WRIST_y_coord:  0.6243388652801514\n",
      "coords:  299\n",
      "left_WRIST_y_coord:  0.6168315410614014\n",
      "coords:  296\n",
      "left_WRIST_y_coord:  0.6077037453651428\n",
      "coords:  291\n",
      "left_WRIST_y_coord:  0.605422854423523\n",
      "coords:  290\n",
      "left_WRIST_y_coord:  0.6041393280029297\n",
      "coords:  289\n",
      "left_WRIST_y_coord:  0.6037733554840088\n",
      "coords:  289\n",
      "left_WRIST_y_coord:  0.6079431772232056\n",
      "coords:  291\n",
      "left_WRIST_y_coord:  0.611271858215332\n",
      "coords:  293\n",
      "left_WRIST_y_coord:  0.6151963472366333\n",
      "coords:  295\n",
      "left_WRIST_y_coord:  0.6159392595291138\n",
      "coords:  295\n",
      "left_WRIST_y_coord:  0.6172617077827454\n",
      "coords:  296\n",
      "left_WRIST_y_coord:  0.6172140836715698\n",
      "coords:  296\n",
      "left_WRIST_y_coord:  0.6059989929199219\n",
      "coords:  290\n",
      "left_WRIST_y_coord:  0.6084277033805847\n",
      "coords:  292\n",
      "left_WRIST_y_coord:  0.6063999533653259\n",
      "coords:  291\n",
      "left_WRIST_y_coord:  0.6063694953918457\n",
      "coords:  291\n",
      "left_WRIST_y_coord:  0.6094893217086792\n",
      "coords:  292\n",
      "left_WRIST_y_coord:  0.6107722520828247\n",
      "coords:  293\n",
      "left_WRIST_y_coord:  0.6093493103981018\n",
      "coords:  292\n",
      "left_WRIST_y_coord:  0.6056542992591858\n",
      "coords:  290\n",
      "left_WRIST_y_coord:  0.6027954816818237\n",
      "coords:  289\n",
      "left_WRIST_y_coord:  0.6007072925567627\n",
      "coords:  288\n",
      "left_WRIST_y_coord:  0.5983861684799194\n",
      "coords:  287\n",
      "left_WRIST_y_coord:  0.599806010723114\n",
      "coords:  287\n",
      "left_WRIST_y_coord:  0.5950724482536316\n",
      "coords:  285\n",
      "left_WRIST_y_coord:  0.5960596799850464\n",
      "coords:  286\n",
      "left_WRIST_y_coord:  0.5963870286941528\n",
      "coords:  286\n",
      "left_WRIST_y_coord:  0.5973270535469055\n",
      "coords:  286\n",
      "left_WRIST_y_coord:  0.6033220291137695\n",
      "coords:  289\n",
      "left_WRIST_y_coord:  0.614202618598938\n",
      "coords:  294\n",
      "left_WRIST_y_coord:  0.6840407252311707\n",
      "coords:  328\n",
      "left_WRIST_y_coord:  0.704999566078186\n",
      "coords:  338\n",
      "left_WRIST_y_coord:  0.7434171438217163\n",
      "coords:  356\n",
      "left_WRIST_y_coord:  0.7747212052345276\n",
      "coords:  371\n",
      "left_WRIST_y_coord:  0.8290375471115112\n",
      "coords:  397\n"
     ]
    }
   ],
   "source": [
    "cap = cv2.VideoCapture(0)\n",
    "\n",
    "with mp_hands.Hands(min_detection_confidence=0.8, min_tracking_confidence=0.5) as hands: \n",
    "    while cap.isOpened():\n",
    "        ret, frame = cap.read()\n",
    "        \n",
    "        # BGR 2 RGB\n",
    "        image = cv2.cvtColor(frame, cv2.COLOR_BGR2RGB)\n",
    "        \n",
    "        # Flip on horizontal\n",
    "        image = cv2.flip(image, 1)\n",
    "        \n",
    "        # Set flag\n",
    "        image.flags.writeable = False\n",
    "        \n",
    "        # Detections\n",
    "        results = hands.process(image)\n",
    "        \n",
    "        # Draw the hand annotations on the image.\n",
    "        image.flags.writeable = True\n",
    "        \n",
    "        # RGB 2 BGR\n",
    "        image = cv2.cvtColor(image, cv2.COLOR_RGB2BGR)\n",
    "        \n",
    "        \n",
    "        # Rendering results\n",
    "        if results.multi_hand_landmarks:\n",
    "            for num, hand in enumerate(results.multi_hand_landmarks):\n",
    "                mp_drawing.draw_landmarks(image, hand, mp_hands.HAND_CONNECTIONS, \n",
    "                                        mp_drawing.DrawingSpec(color=(121, 22, 76), thickness=2, circle_radius=4),\n",
    "                                        mp_drawing.DrawingSpec(color=(250, 44, 250), thickness=2, circle_radius=2),\n",
    "                                        )\n",
    "                \n",
    "                if results.multi_handedness[num].classification[0].label == 'Left':\n",
    "                    left_WRIST_y_coord = hand.landmark[0].y # left or right?\n",
    "                    print(\"left_WRIST_y_coord: \",left_WRIST_y_coord)\n",
    "                    coords = int(hand.landmark[mp_hands.HandLandmark.WRIST].y * 480)\n",
    "                    print(\"coords: \", coords)\n",
    "                    start_point = (0, coords)\n",
    "                    end_point = (640, coords)\n",
    "                    color = (0, 255, 0)\n",
    "                    thickness = 2\n",
    "                    image = cv2.line(image, start_point, end_point, color, thickness)\n",
    "                \n",
    "        # Save our image    \n",
    "        #cv2.imwrite(os.path.join('Output Images', '{}.jpg'.format(uuid.uuid1())), image)\n",
    "        \n",
    "        cv2.imshow('Hand Tracking', image)\n",
    "\n",
    "        if cv2.waitKey(10) & 0xFF == ord('q'):\n",
    "            break\n",
    "\n",
    "cap.release()\n",
    "cv2.destroyAllWindows()"
   ]
  },
  {
   "cell_type": "code",
   "execution_count": 37,
   "metadata": {},
   "outputs": [
    {
     "data": {
      "text/plain": [
       "[classification {\n",
       "   index: 1\n",
       "   score: 0.935844361782074\n",
       "   label: \"Right\"\n",
       " },\n",
       " classification {\n",
       "   index: 0\n",
       "   score: 0.8626344799995422\n",
       "   label: \"Left\"\n",
       " }]"
      ]
     },
     "execution_count": 37,
     "metadata": {},
     "output_type": "execute_result"
    }
   ],
   "source": [
    "results.multi_handedness"
   ]
  },
  {
   "cell_type": "markdown",
   "metadata": {},
   "source": [
    "## Detect Left and Right Hands"
   ]
  },
  {
   "cell_type": "markdown",
   "metadata": {},
   "source": [
    "<img src=https://i.imgur.com/qpRACer.png />"
   ]
  },
  {
   "cell_type": "code",
   "execution_count": 22,
   "metadata": {},
   "outputs": [
    {
     "data": {
      "text/plain": [
       "mediapipe.python.solution_base.SolutionOutputs"
      ]
     },
     "execution_count": 22,
     "metadata": {},
     "output_type": "execute_result"
    }
   ],
   "source": [
    "results "
   ]
  },
  {
   "cell_type": "code",
   "execution_count": 33,
   "metadata": {},
   "outputs": [
    {
     "data": {
      "text/plain": [
       "<HandLandmark.WRIST: 0>"
      ]
     },
     "execution_count": 33,
     "metadata": {},
     "output_type": "execute_result"
    }
   ],
   "source": [
    "mp_hands.HandLandmark.WRIST"
   ]
  },
  {
   "cell_type": "code",
   "execution_count": 36,
   "metadata": {
    "scrolled": true
   },
   "outputs": [
    {
     "data": {
      "text/plain": [
       "[landmark {\n",
       "   x: 0.8029093742370605\n",
       "   y: 0.8650380969047546\n",
       "   z: 8.539892064618471e-07\n",
       " }\n",
       " landmark {\n",
       "   x: 0.6896265745162964\n",
       "   y: 0.8540700674057007\n",
       "   z: -0.0685085877776146\n",
       " }\n",
       " landmark {\n",
       "   x: 0.5701994299888611\n",
       "   y: 0.7926599383354187\n",
       "   z: -0.11081638187170029\n",
       " }\n",
       " landmark {\n",
       "   x: 0.4632289707660675\n",
       "   y: 0.7357466816902161\n",
       "   z: -0.1479504257440567\n",
       " }\n",
       " landmark {\n",
       "   x: 0.3795013427734375\n",
       "   y: 0.6790257692337036\n",
       "   z: -0.18581971526145935\n",
       " }\n",
       " landmark {\n",
       "   x: 0.6275151968002319\n",
       "   y: 0.5815210938453674\n",
       "   z: -0.08617090433835983\n",
       " }\n",
       " landmark {\n",
       "   x: 0.552241325378418\n",
       "   y: 0.4347618520259857\n",
       "   z: -0.1375739425420761\n",
       " }\n",
       " landmark {\n",
       "   x: 0.5039528608322144\n",
       "   y: 0.3376629948616028\n",
       "   z: -0.17393988370895386\n",
       " }\n",
       " landmark {\n",
       "   x: 0.4657573997974396\n",
       "   y: 0.2453940212726593\n",
       "   z: -0.20201627910137177\n",
       " }\n",
       " landmark {\n",
       "   x: 0.7142265439033508\n",
       "   y: 0.5324094891548157\n",
       "   z: -0.09227052330970764\n",
       " }\n",
       " landmark {\n",
       "   x: 0.6761377453804016\n",
       "   y: 0.3465578258037567\n",
       "   z: -0.13980862498283386\n",
       " }\n",
       " landmark {\n",
       "   x: 0.6504421830177307\n",
       "   y: 0.2140175700187683\n",
       "   z: -0.17686985433101654\n",
       " }\n",
       " landmark {\n",
       "   x: 0.6289248466491699\n",
       "   y: 0.09315168857574463\n",
       "   z: -0.2062905728816986\n",
       " }\n",
       " landmark {\n",
       "   x: 0.799893856048584\n",
       "   y: 0.5354477167129517\n",
       "   z: -0.10595035552978516\n",
       " }\n",
       " landmark {\n",
       "   x: 0.8044782876968384\n",
       "   y: 0.36683738231658936\n",
       "   z: -0.16843150556087494\n",
       " }\n",
       " landmark {\n",
       "   x: 0.8048766851425171\n",
       "   y: 0.2441415786743164\n",
       "   z: -0.206571564078331\n",
       " }\n",
       " landmark {\n",
       "   x: 0.7984423637390137\n",
       "   y: 0.12678301334381104\n",
       "   z: -0.2310749590396881\n",
       " }\n",
       " landmark {\n",
       "   x: 0.8839448690414429\n",
       "   y: 0.5739852786064148\n",
       "   z: -0.12363379448652267\n",
       " }\n",
       " landmark {\n",
       "   x: 0.9372965097427368\n",
       "   y: 0.44191527366638184\n",
       "   z: -0.18290948867797852\n",
       " }\n",
       " landmark {\n",
       "   x: 0.9713343977928162\n",
       "   y: 0.3441508412361145\n",
       "   z: -0.20990125834941864\n",
       " }\n",
       " landmark {\n",
       "   x: 0.9940286874771118\n",
       "   y: 0.24658414721488953\n",
       "   z: -0.22768932580947876\n",
       " },\n",
       " landmark {\n",
       "   x: 0.27743759751319885\n",
       "   y: 0.9540848135948181\n",
       "   z: 1.0955169500448392e-06\n",
       " }\n",
       " landmark {\n",
       "   x: 0.3315913677215576\n",
       "   y: 0.858061671257019\n",
       "   z: -0.07865969091653824\n",
       " }\n",
       " landmark {\n",
       "   x: 0.36416757106781006\n",
       "   y: 0.7334075570106506\n",
       "   z: -0.1266842782497406\n",
       " }\n",
       " landmark {\n",
       "   x: 0.39865317940711975\n",
       "   y: 0.617101788520813\n",
       "   z: -0.16885659098625183\n",
       " }\n",
       " landmark {\n",
       "   x: 0.4315870404243469\n",
       "   y: 0.5130035877227783\n",
       "   z: -0.21348023414611816\n",
       " }\n",
       " landmark {\n",
       "   x: 0.20197556912899017\n",
       "   y: 0.6376595497131348\n",
       "   z: -0.09357049316167831\n",
       " }\n",
       " landmark {\n",
       "   x: 0.14890369772911072\n",
       "   y: 0.5037961006164551\n",
       "   z: -0.14686986804008484\n",
       " }\n",
       " landmark {\n",
       "   x: 0.09665725380182266\n",
       "   y: 0.4182886481285095\n",
       "   z: -0.1892073005437851\n",
       " }\n",
       " landmark {\n",
       "   x: 0.049725241959095\n",
       "   y: 0.3484760522842407\n",
       "   z: -0.22047775983810425\n",
       " }\n",
       " landmark {\n",
       "   x: 0.11490395665168762\n",
       "   y: 0.6991106867790222\n",
       "   z: -0.08672013878822327\n",
       " }\n",
       " landmark {\n",
       "   x: 0.021252140402793884\n",
       "   y: 0.5894536972045898\n",
       "   z: -0.1311221569776535\n",
       " }\n",
       " landmark {\n",
       "   x: -0.039108291268348694\n",
       "   y: 0.5276681780815125\n",
       "   z: -0.1652296632528305\n",
       " }\n",
       " landmark {\n",
       "   x: -0.08968661725521088\n",
       "   y: 0.4861367344856262\n",
       "   z: -0.19068223237991333\n",
       " }\n",
       " landmark {\n",
       "   x: 0.06130363792181015\n",
       "   y: 0.7880276441574097\n",
       "   z: -0.08643215894699097\n",
       " }\n",
       " landmark {\n",
       "   x: -0.03385564684867859\n",
       "   y: 0.7162306308746338\n",
       "   z: -0.12486162781715393\n",
       " }\n",
       " landmark {\n",
       "   x: -0.09510476887226105\n",
       "   y: 0.6708765029907227\n",
       "   z: -0.1454164683818817\n",
       " }\n",
       " landmark {\n",
       "   x: -0.14705221354961395\n",
       "   y: 0.6337037682533264\n",
       "   z: -0.16031703352928162\n",
       " }\n",
       " landmark {\n",
       "   x: 0.03575257956981659\n",
       "   y: 0.8901036381721497\n",
       "   z: -0.09340395033359528\n",
       " }\n",
       " landmark {\n",
       "   x: -0.044631123542785645\n",
       "   y: 0.8593103885650635\n",
       "   z: -0.12668876349925995\n",
       " }\n",
       " landmark {\n",
       "   x: -0.09636951982975006\n",
       "   y: 0.8349677324295044\n",
       "   z: -0.13712047040462494\n",
       " }\n",
       " landmark {\n",
       "   x: -0.14021970331668854\n",
       "   y: 0.8071329593658447\n",
       "   z: -0.14264343678951263\n",
       " }]"
      ]
     },
     "execution_count": 36,
     "metadata": {},
     "output_type": "execute_result"
    }
   ],
   "source": [
    "results.multi_hand_landmarks"
   ]
  },
  {
   "cell_type": "code",
   "execution_count": 26,
   "metadata": {},
   "outputs": [
    {
     "data": {
      "text/plain": [
       "False"
      ]
     },
     "execution_count": 26,
     "metadata": {},
     "output_type": "execute_result"
    }
   ],
   "source": [
    "results.multi_handedness[RL].classification[0].label == 'Right'"
   ]
  },
  {
   "cell_type": "code",
   "execution_count": 27,
   "metadata": {
    "scrolled": true
   },
   "outputs": [
    {
     "data": {
      "text/plain": [
       "2"
      ]
     },
     "execution_count": 27,
     "metadata": {},
     "output_type": "execute_result"
    }
   ],
   "source": [
    "len(results.multi_hand_landmarks)"
   ]
  },
  {
   "cell_type": "code",
   "execution_count": 8,
   "metadata": {},
   "outputs": [
    {
     "data": {
      "text/plain": [
       "[classification {\n",
       "   index: 1\n",
       "   score: 0.9670367240905762\n",
       "   label: \"Right\"\n",
       " },\n",
       " classification {\n",
       "   index: 1\n",
       "   score: 0.99379563331604\n",
       "   label: \"Right\"\n",
       " }]"
      ]
     },
     "execution_count": 8,
     "metadata": {},
     "output_type": "execute_result"
    }
   ],
   "source": [
    "results.multi_handedness"
   ]
  },
  {
   "cell_type": "code",
   "execution_count": 9,
   "metadata": {},
   "outputs": [],
   "source": [
    "joint_list2 = [[8, 7, 6, 5], [12, 11, 10, 9], [16, 15, 14, 13], [20, 19, 18, 17]]"
   ]
  },
  {
   "cell_type": "code",
   "execution_count": 10,
   "metadata": {},
   "outputs": [
    {
     "name": "stdout",
     "output_type": "stream",
     "text": [
      "joint:  [8, 7, 6, 5]\n",
      "joint:  [12, 11, 10, 9]\n",
      "joint:  [16, 15, 14, 13]\n",
      "joint:  [20, 19, 18, 17]\n"
     ]
    }
   ],
   "source": [
    "for num, joint in enumerate(joint_list2):\n",
    "    print(\"joint: \",joint)"
   ]
  },
  {
   "cell_type": "code",
   "execution_count": 11,
   "metadata": {},
   "outputs": [
    {
     "data": {
      "text/plain": [
       "[20, 19, 18, 17]"
      ]
     },
     "execution_count": 11,
     "metadata": {},
     "output_type": "execute_result"
    }
   ],
   "source": [
    "joint"
   ]
  },
  {
   "cell_type": "code",
   "execution_count": 12,
   "metadata": {},
   "outputs": [
    {
     "name": "stdout",
     "output_type": "stream",
     "text": [
      "RL:  0\n",
      "hand.landmark[joint[0]]:  0.8544924259185791\n",
      "RL:  1\n",
      "hand.landmark[joint[0]]:  0.7949413061141968\n"
     ]
    }
   ],
   "source": [
    "for RL, hand in enumerate(results.multi_hand_landmarks):\n",
    "    print(\"RL: \",RL)\n",
    "    #print(\"hand: \",hand)\n",
    "    print(\"hand.landmark[joint[0]]: \",hand.landmark[0].y) # WRIST coord\n",
    "#     for num, joint in enumerate(joint_list2):\n",
    "        \n",
    "#         a = np.array([hand.landmark[joint[0]].x, hand.landmark[joint[0]].y]) # First coord\n",
    "#         print(\"joint: \",hand.landmark[joint[0]])"
   ]
  },
  {
   "cell_type": "code",
   "execution_count": 13,
   "metadata": {},
   "outputs": [
    {
     "data": {
      "text/plain": [
       "0.97"
      ]
     },
     "execution_count": 13,
     "metadata": {},
     "output_type": "execute_result"
    }
   ],
   "source": [
    "round(results.multi_handedness[0].classification[0].score, 2)"
   ]
  },
  {
   "cell_type": "code",
   "execution_count": null,
   "metadata": {},
   "outputs": [],
   "source": [
    "for idx, classification in enumerate(results.multi_handedness):\n",
    "    print(\"idx: \", idx, \"classification: \", classification)"
   ]
  },
  {
   "cell_type": "code",
   "execution_count": null,
   "metadata": {},
   "outputs": [],
   "source": [
    "results.multi_handedness[0]"
   ]
  },
  {
   "cell_type": "code",
   "execution_count": null,
   "metadata": {},
   "outputs": [],
   "source": [
    "def get_label(image, index, hand, results):\n",
    "    output = None\n",
    "    #for idx, classification in enumerate(results.multi_handedness):\n",
    "            \n",
    "    # Process results\n",
    "    label = results.multi_handedness[index].classification[0].label\n",
    "    score = results.multi_handedness[index].classification[0].score\n",
    "    text = '{} {}'.format(label, round(score, 2))\n",
    "\n",
    "    # Extract Coordinates\n",
    "    coords = tuple(np.multiply(\n",
    "        np.array((hand.landmark[mp_hands.HandLandmark.WRIST].x, hand.landmark[mp_hands.HandLandmark.WRIST].y)),\n",
    "    [640,480]).astype(int))\n",
    "\n",
    "\n",
    "    cv2.putText(image, text, coords, cv2.FONT_HERSHEY_SIMPLEX, 1, (255, 255, 255), 2, cv2.LINE_AA)\n",
    "\n",
    "    output = True\n"
   ]
  },
  {
   "cell_type": "code",
   "execution_count": null,
   "metadata": {},
   "outputs": [],
   "source": [
    "coords = tuple(np.multiply(np.array((hand.landmark[mp_hands.HandLandmark.WRIST].x, hand.landmark[mp_hands.HandLandmark.WRIST].y)),[640,480]).astype(int))"
   ]
  },
  {
   "cell_type": "code",
   "execution_count": 42,
   "metadata": {},
   "outputs": [
    {
     "data": {
      "text/plain": [
       "array([2, 3])"
      ]
     },
     "execution_count": 42,
     "metadata": {},
     "output_type": "execute_result"
    }
   ],
   "source": [
    "np.multiply([1,1],[2,3])"
   ]
  },
  {
   "cell_type": "code",
   "execution_count": null,
   "metadata": {
    "scrolled": true
   },
   "outputs": [],
   "source": [
    "cap = cv2.VideoCapture(0)\n",
    "\n",
    "with mp_hands.Hands(min_detection_confidence=0.8, min_tracking_confidence=0.5) as hands: \n",
    "    while cap.isOpened():\n",
    "        ret, frame = cap.read()\n",
    "        \n",
    "        # BGR 2 RGB\n",
    "        image = cv2.cvtColor(frame, cv2.COLOR_BGR2RGB)\n",
    "        \n",
    "        # Flip on horizontal\n",
    "        image = cv2.flip(image, 1)\n",
    "        \n",
    "        # Set flag\n",
    "        image.flags.writeable = False\n",
    "        \n",
    "        # Detections\n",
    "        results = hands.process(image)\n",
    "        \n",
    "        # Set flag to true\n",
    "        image.flags.writeable = True\n",
    "        \n",
    "        # RGB 2 BGR\n",
    "        image = cv2.cvtColor(image, cv2.COLOR_RGB2BGR)\n",
    "        \n",
    "        \n",
    "        # Rendering results\n",
    "        if results.multi_hand_landmarks:\n",
    "            for idx, hand in enumerate(results.multi_hand_landmarks):\n",
    "                mp_drawing.draw_landmarks(image, hand, mp_hands.HAND_CONNECTIONS, \n",
    "                                        mp_drawing.DrawingSpec(color=(121, 22, 76), thickness=2, circle_radius=4),\n",
    "                                        mp_drawing.DrawingSpec(color=(250, 44, 250), thickness=2, circle_radius=2),\n",
    "                                         )\n",
    "            \n",
    "            \n",
    "                # Render left or right detection\n",
    "                get_label(image, idx, hand, results)\n",
    "               \n",
    "            \n",
    "        # Save our image    \n",
    "        #cv2.imwrite(os.path.join('Output Images', '{}.jpg'.format(uuid.uuid1())), image)\n",
    "        cv2.imshow('Hand Tracking', image)\n",
    "\n",
    "        if cv2.waitKey(10) & 0xFF == ord('q'):\n",
    "            break\n",
    "\n",
    "cap.release()\n",
    "cv2.destroyAllWindows()"
   ]
  },
  {
   "cell_type": "markdown",
   "metadata": {},
   "source": [
    "# 5. Calculate Multiple Angles"
   ]
  },
  {
   "cell_type": "code",
   "execution_count": null,
   "metadata": {},
   "outputs": [],
   "source": [
    "# !pip install matplotlib"
   ]
  },
  {
   "cell_type": "code",
   "execution_count": null,
   "metadata": {},
   "outputs": [],
   "source": [
    "from matplotlib import pyplot as plt"
   ]
  },
  {
   "cell_type": "markdown",
   "metadata": {},
   "source": [
    "<img src=https://i.imgur.com/qpRACer.png />"
   ]
  },
  {
   "cell_type": "code",
   "execution_count": null,
   "metadata": {},
   "outputs": [],
   "source": [
    "joint_list = [[8, 7, 6], [12, 11, 10], [16, 15, 14], [20, 19, 18]]"
   ]
  },
  {
   "cell_type": "code",
   "execution_count": null,
   "metadata": {},
   "outputs": [],
   "source": [
    "joint_list[3]"
   ]
  },
  {
   "cell_type": "code",
   "execution_count": null,
   "metadata": {},
   "outputs": [],
   "source": [
    "def draw_finger_angles(image, results, joint_list):\n",
    "    \n",
    "    # Loop through hands\n",
    "    for hand in results.multi_hand_landmarks:\n",
    "        #Loop through joint sets \n",
    "        for joint in joint_list:\n",
    "            a = np.array([hand.landmark[joint[0]].x, hand.landmark[joint[0]].y]) # First coord\n",
    "            b = np.array([hand.landmark[joint[1]].x, hand.landmark[joint[1]].y]) # Second coord\n",
    "            c = np.array([hand.landmark[joint[2]].x, hand.landmark[joint[2]].y]) # Third coord\n",
    "            \n",
    "            radians = np.arctan2(c[0] - b[0], c[1]-b[1]) - np.arctan2(a[0]-b[0], a[1]-b[1])\n",
    "            angle = np.abs(radians*180.0/np.pi)\n",
    "            \n",
    "            if angle > 180.0:\n",
    "                angle = 360-angle\n",
    "                \n",
    "            cv2.putText(image, str(round(angle, 2)), tuple(np.multiply(b, [640, 480]).astype(int)),\n",
    "                       cv2.FONT_HERSHEY_SIMPLEX, 0.5, (255, 255, 255), 2, cv2.LINE_AA)\n",
    "    return image"
   ]
  },
  {
   "cell_type": "code",
   "execution_count": null,
   "metadata": {},
   "outputs": [],
   "source": [
    "results.multi_hand_landmarks"
   ]
  },
  {
   "cell_type": "code",
   "execution_count": null,
   "metadata": {},
   "outputs": [],
   "source": [
    "test_image = draw_finger_angles(image, results, joint_list)"
   ]
  },
  {
   "cell_type": "code",
   "execution_count": null,
   "metadata": {},
   "outputs": [],
   "source": [
    "plt.imshow(cv2.cvtColor(test_image, cv2.COLOR_BGR2RGB))\n",
    "plt.show()"
   ]
  },
  {
   "cell_type": "code",
   "execution_count": null,
   "metadata": {},
   "outputs": [],
   "source": [
    "cap = cv2.VideoCapture(0)\n",
    "\n",
    "with mp_hands.Hands(min_detection_confidence=0.8, min_tracking_confidence=0.5) as hands: \n",
    "    while cap.isOpened():\n",
    "        ret, frame = cap.read()\n",
    "        \n",
    "        # BGR 2 RGB\n",
    "        image = cv2.cvtColor(frame, cv2.COLOR_BGR2RGB)\n",
    "        \n",
    "        # Flip on horizontal\n",
    "        image = cv2.flip(image, 1)\n",
    "        \n",
    "        # Set flag\n",
    "        image.flags.writeable = False\n",
    "        \n",
    "        # Detections\n",
    "        results = hands.process(image)\n",
    "        \n",
    "        # Set flag to true\n",
    "        image.flags.writeable = True\n",
    "        \n",
    "        # RGB 2 BGR\n",
    "        image = cv2.cvtColor(image, cv2.COLOR_RGB2BGR)\n",
    "        \n",
    "        # Rendering results\n",
    "        if results.multi_hand_landmarks:\n",
    "            for num, hand in enumerate(results.multi_hand_landmarks):\n",
    "                mp_drawing.draw_landmarks(image, hand, mp_hands.HAND_CONNECTIONS, \n",
    "                                        mp_drawing.DrawingSpec(color=(121, 22, 76), thickness=2, circle_radius=4),\n",
    "                                        mp_drawing.DrawingSpec(color=(250, 44, 250), thickness=2, circle_radius=2),\n",
    "                                         )\n",
    "                \n",
    "                # Render left or right detection\n",
    "                if get_label(num, hand, results):\n",
    "                    text, coord = get_label(num, hand, results)\n",
    "                    cv2.putText(image, text, coord, cv2.FONT_HERSHEY_SIMPLEX, 1, (255, 255, 255), 2, cv2.LINE_AA)\n",
    "            \n",
    "            # Draw angles to image from joint list\n",
    "            draw_finger_angles(image, results, joint_list)\n",
    "            \n",
    "        # Save our image    \n",
    "        #cv2.imwrite(os.path.join('Output Images', '{}.jpg'.format(uuid.uuid1())), image)\n",
    "        cv2.imshow('Hand Tracking', image)\n",
    "\n",
    "        if cv2.waitKey(10) & 0xFF == ord('q'):\n",
    "            break\n",
    "\n",
    "cap.release()\n",
    "cv2.destroyAllWindows()"
   ]
  },
  {
   "cell_type": "code",
   "execution_count": 1,
   "metadata": {},
   "outputs": [],
   "source": [
    "joint_list2 = [[8, 7, 6, 5], [12, 11, 10, 9], [16, 15, 14, 13], [20, 19, 18, 17]]"
   ]
  },
  {
   "cell_type": "code",
   "execution_count": 2,
   "metadata": {},
   "outputs": [],
   "source": [
    "def decide_gesture(angle_list):\n",
    "    threshold1 = 140\n",
    "    threshold2 = 140\n",
    "    if angle_list[0][1] > threshold1:\n",
    "        if angle_list[1][1] > threshold1:\n",
    "            if angle_list[2][1] > threshold1:\n",
    "                if angle_list[3][1] > threshold1:\n",
    "                    return 'four'\n",
    "                else:\n",
    "                    return 'three'\n",
    "            else:\n",
    "                return 'two'\n",
    "        else:\n",
    "            if angle_list[2][1] > threshold1:\n",
    "                return 'one'\n",
    "            else:\n",
    "                if angle_list[3][1] > threshold1:\n",
    "                    return 'rock'\n",
    "                else:\n",
    "                    return 'one'\n",
    "    else:\n",
    "        return 'none'"
   ]
  },
  {
   "cell_type": "code",
   "execution_count": 3,
   "metadata": {},
   "outputs": [],
   "source": [
    "import math\n",
    "\n",
    "def draw_and_get_finger_angles2(image, results, joint_list):\n",
    "    \n",
    "    pos = 20\n",
    "    RLmultiply = 0\n",
    "    # Loop through hands\n",
    "    for RL, hand in enumerate(results.multi_hand_landmarks):\n",
    "        angle_list = []\n",
    "        try:\n",
    "            if results.multi_handedness[RL].classification[0].label == 'Right':\n",
    "                RLmultiply = 1\n",
    "            else:\n",
    "                RLmultiply = 0\n",
    "        except:\n",
    "            pass\n",
    "        #Loop through joint sets \n",
    "        for num, joint in enumerate(joint_list2):\n",
    "            a = np.array([hand.landmark[joint[0]].x, hand.landmark[joint[0]].y]) # First coord\n",
    "            b = np.array([hand.landmark[joint[1]].x, hand.landmark[joint[1]].y]) # Second coord\n",
    "            c = np.array([hand.landmark[joint[2]].x, hand.landmark[joint[2]].y]) # Third coord\n",
    "            d = np.array([hand.landmark[joint[3]].x, hand.landmark[joint[3]].y]) # Fuorth coord\n",
    "            e = np.array([hand.landmark[0].x, hand.landmark[0].y]) # Fifth coord\n",
    "            \n",
    "            radians1 = np.arctan2(b[1] - c[1], b[0]-c[0]) - np.arctan2(d[1]-c[1], d[0]-c[0])\n",
    "            radians2 = np.arctan2(c[1] - d[1], c[0]-d[0]) - np.arctan2(e[1]-d[1], e[0]-d[0])\n",
    "            angle1 = np.abs(radians1*180.0/np.pi)\n",
    "            angle2 = np.abs(radians2*180.0/np.pi)\n",
    "            \n",
    "            if angle1 > 180.0:\n",
    "                angle1 = 360-angle1\n",
    "            if angle2 > 180.0:\n",
    "                angle2 = 360-angle2\n",
    "            \n",
    "            angle_list.append((angle1, angle2))\n",
    "                \n",
    "            cv2.putText(image, str(round(angle1, 2)), (pos + num * 80 + RLmultiply * 320, 20),\n",
    "                       cv2.FONT_HERSHEY_SIMPLEX, 0.5, (255, 255, 255), 2, cv2.LINE_AA)\n",
    "            cv2.putText(image, str(round(angle2, 2)), (pos + num * 80 + RLmultiply * 320, 40),\n",
    "                       cv2.FONT_HERSHEY_SIMPLEX, 0.5, (255, 255, 255), 2, cv2.LINE_AA)\n",
    "        if RLmultiply == 1:\n",
    "            distance = math.sqrt((hand.landmark[4].x - hand.landmark[12].x)**2 + (hand.landmark[4].y - hand.landmark[12].y)**2)\n",
    "            cv2.putText(image, str(round(distance, 2)), (int(hand.landmark[0].x * 640), int(hand.landmark[0].y * 480) + 30),\n",
    "                           cv2.FONT_HERSHEY_SIMPLEX, 0.5, (255, 255, 255), 2, cv2.LINE_AA)\n",
    "        if RLmultiply == 0:\n",
    "            gesture = decide_gesture(angle_list)\n",
    "            cv2.putText(image, gesture, (int(hand.landmark[0].x * 640), int(hand.landmark[0].y * 480) + 30),\n",
    "                           cv2.FONT_HERSHEY_SIMPLEX, 0.5, (255, 255, 255), 2, cv2.LINE_AA)\n",
    "\n",
    "    \n",
    "    return image"
   ]
  },
  {
   "cell_type": "code",
   "execution_count": 6,
   "metadata": {},
   "outputs": [],
   "source": [
    "cap = cv2.VideoCapture(0)\n",
    "\n",
    "with mp_hands.Hands(min_detection_confidence=0.8, min_tracking_confidence=0.5) as hands: \n",
    "    while cap.isOpened():\n",
    "        ret, frame = cap.read()\n",
    "        \n",
    "        # BGR 2 RGB\n",
    "        image = cv2.cvtColor(frame, cv2.COLOR_BGR2RGB)\n",
    "        \n",
    "        # Flip on horizontal\n",
    "        image = cv2.flip(image, 1)\n",
    "        \n",
    "        # Set flag\n",
    "        image.flags.writeable = False\n",
    "        \n",
    "        # Detections\n",
    "        results = hands.process(image)\n",
    "        \n",
    "        # Set flag to true\n",
    "        image.flags.writeable = True\n",
    "        \n",
    "        # RGB 2 BGR\n",
    "        image = cv2.cvtColor(image, cv2.COLOR_RGB2BGR)\n",
    "        \n",
    "        # Rendering results\n",
    "        if results.multi_hand_landmarks:\n",
    "            for num, hand in enumerate(results.multi_hand_landmarks):\n",
    "                mp_drawing.draw_landmarks(image, hand, mp_hands.HAND_CONNECTIONS, \n",
    "                                        mp_drawing.DrawingSpec(color=(121, 22, 76), thickness=2, circle_radius=4),\n",
    "                                        mp_drawing.DrawingSpec(color=(250, 44, 250), thickness=2, circle_radius=2),\n",
    "                                         )\n",
    "        \n",
    "            # Draw angles to image from joint list\n",
    "            draw_and_get_finger_angles2(image, results, joint_list2)\n",
    "            \n",
    "        # Save our image    \n",
    "        #cv2.imwrite(os.path.join('Output Images', '{}.jpg'.format(uuid.uuid1())), image)\n",
    "        cv2.imshow('Hand Tracking', image)\n",
    "\n",
    "        if cv2.waitKey(10) & 0xFF == ord('q'):\n",
    "            break\n",
    "\n",
    "cap.release()\n",
    "cv2.destroyAllWindows()"
   ]
  },
  {
   "cell_type": "code",
   "execution_count": null,
   "metadata": {},
   "outputs": [],
   "source": []
  },
  {
   "cell_type": "code",
   "execution_count": null,
   "metadata": {},
   "outputs": [],
   "source": [
    "cv2.imshow('Hand Tracking', image)"
   ]
  },
  {
   "cell_type": "code",
   "execution_count": null,
   "metadata": {},
   "outputs": [],
   "source": []
  },
  {
   "cell_type": "code",
   "execution_count": null,
   "metadata": {},
   "outputs": [],
   "source": []
  }
 ],
 "metadata": {
  "kernelspec": {
   "display_name": "Python 3",
   "language": "python",
   "name": "python3"
  },
  "language_info": {
   "codemirror_mode": {
    "name": "ipython",
    "version": 3
   },
   "file_extension": ".py",
   "mimetype": "text/x-python",
   "name": "python",
   "nbconvert_exporter": "python",
   "pygments_lexer": "ipython3",
   "version": "3.7.3"
  }
 },
 "nbformat": 4,
 "nbformat_minor": 2
}
