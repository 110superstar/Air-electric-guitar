{
 "cells": [
  {
   "cell_type": "code",
   "execution_count": 13,
   "metadata": {},
   "outputs": [],
   "source": [
    "import mediapipe as mp\n",
    "import cv2\n",
    "import numpy as np\n",
    "import uuid\n",
    "import os\n",
    "import random\n",
    "\n",
    "mp_drawing = mp.solutions.drawing_utils\n",
    "mp_hands = mp.solutions.hands\n",
    "mp_drawing_styles = mp.solutions.drawing_styles"
   ]
  },
  {
   "cell_type": "code",
   "execution_count": 14,
   "metadata": {},
   "outputs": [],
   "source": [
    "def decide_gesture(inout_list):\n",
    "    \n",
    "    if all([not(x ^ y)for x, y in zip(inout_list,[True, False, True, True, True])]):\n",
    "        return 'one'\n",
    "    elif all([not(x ^ y)for x, y in zip(inout_list,[True, False, False, True, True])]):\n",
    "        return 'two'\n",
    "    elif all([not(x ^ y)for x, y in zip(inout_list,[True, False, False, False, True])]):\n",
    "        return 'three'\n",
    "    elif all([not(x ^ y)for x, y in zip(inout_list,[True, False, False, False, False])]):\n",
    "        return 'four'\n",
    "    elif all([not(x ^ y)for x, y in zip(inout_list,[False, False, False, False, False])]):\n",
    "        return 'five'\n",
    "    elif all([not(x ^ y)for x, y in zip(inout_list,[False, True, True, True, False])]):\n",
    "        return 'six'\n",
    "    elif all([not(x ^ y)for x, y in zip(inout_list,[False, False, True, True, True])]):\n",
    "        return 'seven'\n",
    "    elif all([not(x ^ y)for x, y in zip(inout_list,[False, False, False, True, True])]):\n",
    "        return 'eight'\n",
    "    elif all([not(x ^ y)for x, y in zip(inout_list,[True, False, True, True, False])]):\n",
    "        return 'rock1'\n",
    "    elif all([not(x ^ y)for x, y in zip(inout_list,[False, False, True, True, False])]):\n",
    "        return 'rock2'"
   ]
  },
  {
   "cell_type": "code",
   "execution_count": 15,
   "metadata": {},
   "outputs": [],
   "source": [
    "def formula_big(x1, x2, x3, y1, y2, y3):\n",
    "    \n",
    "    mul_x = 640\n",
    "    mul_y = 480\n",
    "    x1 = x1 * mul_x\n",
    "    x2 = x2 * mul_x\n",
    "    x3 = x3 * mul_x\n",
    "    y1 = y1 * mul_y\n",
    "    y2 = y2 * mul_y\n",
    "    y3 = y3 * mul_y\n",
    "    \n",
    "    a = (y1 - y2) / (x1 - x2)\n",
    "    b = y1 - a * x1\n",
    "    \n",
    "    #cv2.line(image, (int(round((100 - b) / a)), 100), (int(round((480 - b) / a)), 640), (0, 0, 255), 1)\n",
    "    \n",
    "    if x1 > x2:\n",
    "        if x3 * a + b > y3 - abs(x1 - x2 + y1 - y2):\n",
    "            return True\n",
    "        return False\n",
    "    else:\n",
    "        if x3 * a + b > y3:\n",
    "            return False\n",
    "        return True"
   ]
  },
  {
   "cell_type": "code",
   "execution_count": 16,
   "metadata": {},
   "outputs": [],
   "source": [
    "def formula_other(x1, x2, x3, y1, y2, y3):\n",
    "    \n",
    "    mul_x = 640\n",
    "    mul_y = 480\n",
    "    x1 = x1 * mul_x\n",
    "    x2 = x2 * mul_x\n",
    "    x3 = x3 * mul_x\n",
    "    y1 = y1 * mul_y\n",
    "    y2 = y2 * mul_y\n",
    "    y3 = y3 * mul_y\n",
    "    \n",
    "    a = (y1 - y2) / (x1 - x2)\n",
    "    b = y1 - a * x1\n",
    "    \n",
    "    #cv2.line(image, (int(round((100 - b) / a)), 100), (int(round((480 - b) / a)), 640), (0, 0, 255), 1)\n",
    "    \n",
    "    \n",
    "    if x1 > x2:\n",
    "        if x3 * a + b > y3:\n",
    "            return True\n",
    "        return False\n",
    "    else:\n",
    "        if x3 * a + b > y3 + 30:\n",
    "            return False\n",
    "        return True\n",
    "            "
   ]
  },
  {
   "cell_type": "code",
   "execution_count": 17,
   "metadata": {},
   "outputs": [],
   "source": [
    "import math\n",
    "\n",
    "def draw_and_get_finger_angles2(image, results):\n",
    "    \n",
    "    pos = 20\n",
    "    RLmultiply = 0\n",
    "    distance = None\n",
    "    gesture = None\n",
    "    inout = ''\n",
    "    # Loop through hands\n",
    "    for RL, hand in enumerate(results.multi_hand_landmarks):\n",
    "        inout_list = []\n",
    "        try:\n",
    "            if results.multi_handedness[RL].classification[0].label == 'Right':\n",
    "                RLmultiply = 1\n",
    "            else:\n",
    "                RLmultiply = 0\n",
    "        except:\n",
    "            pass\n",
    "        a = np.array([hand.landmark[4].x, hand.landmark[4].y]) #大拇指尖\n",
    "        b = np.array([hand.landmark[8].x, hand.landmark[8].y]) #食指尖\n",
    "        c = np.array([hand.landmark[12].x, hand.landmark[12].y]) #中指尖\n",
    "        d = np.array([hand.landmark[16].x, hand.landmark[16].y]) #無名指尖\n",
    "        e = np.array([hand.landmark[20].x, hand.landmark[20].y]) #小指尖\n",
    "        f = np.array([hand.landmark[5].x, hand.landmark[5].y]) #食指根\n",
    "        g = np.array([hand.landmark[9].x, hand.landmark[9].y]) #中指根\n",
    "        h = np.array([hand.landmark[13].x, hand.landmark[13].y]) #無名指根\n",
    "        i = np.array([hand.landmark[17].x, hand.landmark[17].y]) #小指根\n",
    "        j = np.array([hand.landmark[0].x, hand.landmark[0].y]) #手腕\n",
    "        \n",
    "        #大拇指\n",
    "        inout_list.append(formula_big(f[0], j[0], a[0], f[1], j[1], a[1]))\n",
    "        #食指\n",
    "        inout_list.append(not formula_other(f[0], g[0], b[0], f[1], g[1], b[1]))\n",
    "        #中指\n",
    "        inout_list.append(not formula_other(f[0], g[0], c[0], f[1], g[1], c[1]))\n",
    "        #無名指\n",
    "        inout_list.append(not formula_other(f[0], g[0], d[0], f[1], g[1], d[1]))\n",
    "        #小拇指\n",
    "        inout_list.append(not formula_other(f[0], g[0], e[0], f[1], g[1], e[1]))\n",
    "        \n",
    "        \n",
    "        cv2.putText(image, \" \".join(str(x) for x in inout_list), (pos + num * 80 + RLmultiply * 320, 20),\n",
    "               cv2.FONT_HERSHEY_SIMPLEX, 0.5, (255, 255, 255), 2, cv2.LINE_AA)\n",
    "\n",
    "        if RLmultiply == 1:\n",
    "            distance = math.sqrt((hand.landmark[4].x - hand.landmark[12].x)**2 + (hand.landmark[4].y - hand.landmark[12].y)**2)\n",
    "            cv2.putText(image, str(round(distance, 2)), (int(hand.landmark[0].x * 640), int(hand.landmark[0].y * 480) + 30),\n",
    "                           cv2.FONT_HERSHEY_SIMPLEX, 0.5, (255, 255, 255), 2, cv2.LINE_AA)\n",
    "            cv2.putText(image, inout, (int(hand.landmark[0].x * 640), int(hand.landmark[0].y * 480) + 60),\n",
    "                           cv2.FONT_HERSHEY_SIMPLEX, 0.5, (255, 255, 255), 2, cv2.LINE_AA)\n",
    "            \n",
    "            \n",
    "        if RLmultiply == 0:\n",
    "            gesture = decide_gesture(inout_list)\n",
    "            cv2.putText(image, gesture, (int(hand.landmark[0].x * 640), int(hand.landmark[0].y * 480) + 30),\n",
    "                            cv2.FONT_HERSHEY_SIMPLEX, 0.5, (255, 255, 255), 2, cv2.LINE_AA)\n",
    "            cv2.putText(image, inout, (int(hand.landmark[0].x * 640), int(hand.landmark[0].y * 480) + 60),\n",
    "                           cv2.FONT_HERSHEY_SIMPLEX, 0.5, (255, 255, 255), 2, cv2.LINE_AA)\n",
    "            \n",
    "    return image, distance, gesture"
   ]
  },
  {
   "cell_type": "code",
   "execution_count": 18,
   "metadata": {},
   "outputs": [],
   "source": [
    "def draw_line2(image,left_WRIST_y_coord,left_MIDDLE_FINGER_MCP):\n",
    "    start_point = left_MIDDLE_FINGER_MCP\n",
    "    end_point = (640, 480)\n",
    "    color = (0, 255, 0)\n",
    "    thickness = 2\n",
    "    image = cv2.line(image, start_point, end_point, color, thickness)\n",
    "    \n",
    "    return image"
   ]
  },
  {
   "cell_type": "code",
   "execution_count": 19,
   "metadata": {},
   "outputs": [],
   "source": [
    "def draw_line(image,left_middle_point,left_WRIST_y_coord):\n",
    "    start_point = (0, left_middle_point)\n",
    "    end_point = (640, left_middle_point)\n",
    "    color = (0, 255, 0)\n",
    "    thickness = 2\n",
    "    image = cv2.line(image, start_point, end_point, color, thickness)\n",
    "    return image"
   ]
  },
  {
   "cell_type": "code",
   "execution_count": 20,
   "metadata": {},
   "outputs": [],
   "source": [
    "chord_mode_0 = {\n",
    "    'one':\"C_chord\",\n",
    "    'two':\"A_chord\",\n",
    "    'three':\"D_chord\",\n",
    "    'four':\"G_chord\",\n",
    "    'eight':\"applaud\"\n",
    "}\n",
    "chord_mode_1 = {\n",
    "    'one':\"1_chord\",\n",
    "    'two':\"2_chord\",\n",
    "    'three':\"3_chord\",\n",
    "    'four':\"4_chord\",\n",
    "    'eight':\"applaud\"\n",
    "}\n",
    "chord_mode_2 = {\n",
    "    'one':\"C_chord\",\n",
    "    'two':\"D_chord\",\n",
    "    'three':\"E_chord\",\n",
    "    'four':\"F_chord\",\n",
    "    'five':\"G_chord\",\n",
    "    'six':\"A_chord\",\n",
    "    'seven':\"B_chord\",\n",
    "    'eight':\"applaud\"\n",
    "}\n",
    "chord_mode_3 = {\n",
    "    'one':\"lang/f2_chord\",\n",
    "    'two':\"lang/G\",\n",
    "    'three':\"lang/c7_chord\",\n",
    "    'four':\"lang/a_chord\",\n",
    "    'five':\"lang/b1_chord\",\n",
    "    'six':\"lang/c_chord\",\n",
    "    'seven':\"lang/bsus2_chord\",\n",
    "    'eight':\"lang/f1_chord\"\n",
    "}\n",
    "rock_mode = {\n",
    "    1:\"X_chord\",\n",
    "    2:\"Y_chord\",\n",
    "    3:\"Z_chord\"\n",
    "}\n",
    "\n",
    "chord_modes = [chord_mode_0, chord_mode_1, chord_mode_2, chord_mode_3]"
   ]
  },
  {
   "cell_type": "code",
   "execution_count": 21,
   "metadata": {},
   "outputs": [],
   "source": [
    "def change_chord_mode(chord_mode):\n",
    "    num_of_mode = len(chord_modes)-1\n",
    "    if chord_mode+1 <= num_of_mode:\n",
    "        return chord_mode + 1\n",
    "    else:\n",
    "        return 0"
   ]
  },
  {
   "cell_type": "code",
   "execution_count": 22,
   "metadata": {},
   "outputs": [],
   "source": [
    "import playsound\n",
    "import threading\n",
    "import time\n",
    "import winsound\n",
    "\n",
    "def init_play_chord(chord):\n",
    "    print(\"Thread\", chord)\n",
    "    playsound.playsound('music/{}.mp3'.format(chord)) # 讓初次載入時發出聲音\n",
    "    \n",
    "def play_chord(chord):\n",
    "    threads[0] = threading.Thread(target = init_play_chord, args = (chord,))\n",
    "    threads[0].start()\n",
    "\n",
    "# 初始化執行緒\n",
    "threads = []\n",
    "threads.append(threading.Thread(target = init_play_chord, args = (\"C\",)))"
   ]
  },
  {
   "cell_type": "code",
   "execution_count": 23,
   "metadata": {},
   "outputs": [],
   "source": [
    "def find_coord(image, results):\n",
    "    left_WRIST_y_coord = None\n",
    "    right_INEDX_FINGER_DIP = None\n",
    "    left_MIDDLE_FINGER_MCP = None\n",
    "    for RL, hand in enumerate(results.multi_hand_landmarks):\n",
    "        if results.multi_handedness[RL].classification[0].label == 'Left':\n",
    "            \n",
    "            left_WRIST_y_coord = int(hand.landmark[mp_hands.HandLandmark.WRIST].y * 480)\n",
    "            left_MIDDLE_FINGER_MCP = (int(hand.landmark[9].x * 640), int(hand.landmark[9].y * 480))\n",
    "            image = draw_line2(image,left_WRIST_y_coord,left_MIDDLE_FINGER_MCP)\n",
    "            \n",
    "        else:\n",
    "            right_INEDX_FINGER_DIP = (int(hand.landmark[8].x * 640), int(hand.landmark[8].y * 480))\n",
    "        \n",
    "    return image, left_WRIST_y_coord, right_INEDX_FINGER_DIP, left_MIDDLE_FINGER_MCP"
   ]
  },
  {
   "cell_type": "code",
   "execution_count": 24,
   "metadata": {
    "scrolled": true
   },
   "outputs": [
    {
     "name": "stdout",
     "output_type": "stream",
     "text": [
      "change chord mode!\n",
      "change chord mode!\n",
      "change chord mode!\n",
      "Thread lang/f2_chord\n",
      "Thread lang/G\n"
     ]
    },
    {
     "name": "stderr",
     "output_type": "stream",
     "text": [
      "\n",
      "    Error 263 for command:\n",
      "        close music/lang/f2_chord.mp3\n",
      "    指定的裝置未開啟，或無法由 MCI 所辨認。\n",
      "Failed to close the file: music/lang/f2_chord.mp3\n"
     ]
    },
    {
     "name": "stdout",
     "output_type": "stream",
     "text": [
      "Thread lang/c7_chord\n",
      "Thread lang/a_chord\n",
      "Thread lang/f2_chord\n"
     ]
    },
    {
     "name": "stderr",
     "output_type": "stream",
     "text": [
      "\n",
      "    Error 263 for command:\n",
      "        close music/lang/a_chord.mp3\n",
      "    指定的裝置未開啟，或無法由 MCI 所辨認。\n",
      "Failed to close the file: music/lang/a_chord.mp3\n"
     ]
    },
    {
     "name": "stdout",
     "output_type": "stream",
     "text": [
      "Thread lang/G\n",
      "Thread lang/c7_chord\n",
      "Thread lang/b1_chord\n"
     ]
    },
    {
     "name": "stderr",
     "output_type": "stream",
     "text": [
      "\n",
      "    Error 263 for command:\n",
      "        close music/lang/c7_chord.mp3\n",
      "    指定的裝置未開啟，或無法由 MCI 所辨認。\n",
      "Failed to close the file: music/lang/c7_chord.mp3\n"
     ]
    },
    {
     "name": "stdout",
     "output_type": "stream",
     "text": [
      "Thread lang/f2_chord\n"
     ]
    },
    {
     "name": "stderr",
     "output_type": "stream",
     "text": [
      "\n",
      "    Error 263 for command:\n",
      "        close music/lang/b1_chord.mp3\n",
      "    指定的裝置未開啟，或無法由 MCI 所辨認。\n",
      "Failed to close the file: music/lang/b1_chord.mp3\n",
      "\n",
      "    Error 259 for command:\n",
      "        play music/lang/G.mp3 wait\n",
      "    驅動程式無法辨認指定的命令參數。\n",
      "Exception in thread Thread-17:\n",
      "Traceback (most recent call last):\n",
      "  File \"D:\\anaconda3\\lib\\threading.py\", line 932, in _bootstrap_inner\n",
      "    self.run()\n",
      "  File \"D:\\anaconda3\\lib\\threading.py\", line 870, in run\n",
      "    self._target(*self._args, **self._kwargs)\n",
      "  File \"<ipython-input-22-ec0e2074a77a>\", line 8, in init_play_chord\n",
      "  File \"D:\\anaconda3\\lib\\site-packages\\playsound.py\", line 73, in _playsoundWin\n",
      "    def _playsoundNix(sound, block=True):\n",
      "  File \"D:\\anaconda3\\lib\\site-packages\\playsound.py\", line 64, in winCommand\n",
      "    url   = NSURL.URLWithString_(sound)\n",
      "playsound.PlaysoundException: \n",
      "    Error 259 for command:\n",
      "        play music/lang/G.mp3 wait\n",
      "    驅動程式無法辨認指定的命令參數。\n"
     ]
    },
    {
     "name": "stdout",
     "output_type": "stream",
     "text": [
      "Thread lang/G\n"
     ]
    },
    {
     "name": "stderr",
     "output_type": "stream",
     "text": [
      "\n",
      "    Error 263 for command:\n",
      "        close music/lang/f2_chord.mp3\n",
      "    指定的裝置未開啟，或無法由 MCI 所辨認。\n",
      "Failed to close the file: music/lang/f2_chord.mp3\n"
     ]
    },
    {
     "name": "stdout",
     "output_type": "stream",
     "text": [
      "Thread lang/G\n",
      "Thread lang/f2_chord\n"
     ]
    },
    {
     "name": "stderr",
     "output_type": "stream",
     "text": [
      "\n",
      "    Error 263 for command:\n",
      "        close music/lang/f2_chord.mp3\n",
      "    指定的裝置未開啟，或無法由 MCI 所辨認。\n",
      "Failed to close the file: music/lang/f2_chord.mp3\n"
     ]
    },
    {
     "name": "stdout",
     "output_type": "stream",
     "text": [
      "change chord mode!\n",
      "Thread applaud\n",
      "Thread applaud\n",
      "change chord mode!\n",
      "change chord mode!\n",
      "change chord mode!\n",
      "Thread lang/bsus2_chord\n",
      "Thread lang/G\n",
      "Thread lang/c7_chord\n",
      "Thread lang/a_chord\n",
      "Thread lang/f2_chord\n"
     ]
    },
    {
     "name": "stderr",
     "output_type": "stream",
     "text": [
      "\n",
      "    Error 263 for command:\n",
      "        close music/lang/a_chord.mp3\n",
      "    指定的裝置未開啟，或無法由 MCI 所辨認。\n",
      "Failed to close the file: music/lang/a_chord.mp3\n"
     ]
    },
    {
     "name": "stdout",
     "output_type": "stream",
     "text": [
      "Thread lang/G\n"
     ]
    },
    {
     "name": "stderr",
     "output_type": "stream",
     "text": [
      "\n",
      "    Error 263 for command:\n",
      "        close music/lang/f2_chord.mp3\n",
      "    指定的裝置未開啟，或無法由 MCI 所辨認。\n",
      "Failed to close the file: music/lang/f2_chord.mp3\n"
     ]
    },
    {
     "name": "stdout",
     "output_type": "stream",
     "text": [
      "Thread lang/c7_chord\n",
      "Thread lang/b1_chord\n",
      "Thread lang/f2_chord\n",
      "Thread lang/G\n",
      "Thread lang/c7_chord\n"
     ]
    },
    {
     "name": "stderr",
     "output_type": "stream",
     "text": [
      "\n",
      "    Error 263 for command:\n",
      "        close music/lang/c7_chord.mp3\n",
      "    指定的裝置未開啟，或無法由 MCI 所辨認。\n",
      "Failed to close the file: music/lang/c7_chord.mp3\n"
     ]
    },
    {
     "name": "stdout",
     "output_type": "stream",
     "text": [
      "Thread lang/c_chord\n",
      "Thread lang/bsus2_chord\n",
      "Thread lang/f1_chord\n"
     ]
    }
   ],
   "source": [
    "cap = cv2.VideoCapture(0)\n",
    "counter = 0 # 計算偵數，讓模式間隔 N 偵以上才能切換\n",
    "chord_mode = 0\n",
    "N = 20\n",
    "threshold = 0.2\n",
    "Status = True\n",
    "previous_gesture = None\n",
    "gesture = ''\n",
    "with mp_hands.Hands(min_detection_confidence=0.8, min_tracking_confidence=0.5) as hands: \n",
    "    while cap.isOpened():\n",
    "        \n",
    "        ret, frame = cap.read()\n",
    "        cv2.namedWindow(\"Hand Tracking\", 0)\n",
    "        # BGR 2 RGB\n",
    "        image = cv2.cvtColor(frame, cv2.COLOR_BGR2RGB)\n",
    "        \n",
    "        # Flip on horizontal\n",
    "        image = cv2.flip(image, 1)\n",
    "        \n",
    "        # Set flag\n",
    "        image.flags.writeable = False\n",
    "        \n",
    "        # Detections\n",
    "        results = hands.process(image)\n",
    "        \n",
    "        # Set flag to true\n",
    "        image.flags.writeable = True\n",
    "        \n",
    "        # RGB 2 BGR\n",
    "        image = cv2.cvtColor(image, cv2.COLOR_RGB2BGR)\n",
    "        \n",
    "        # Rendering results\n",
    "        if results.multi_hand_landmarks:\n",
    "            for num, hand in enumerate(results.multi_hand_landmarks):\n",
    "                mp_drawing.draw_landmarks(image, hand, mp_hands.HAND_CONNECTIONS, \n",
    "                                        mp_drawing.DrawingSpec(color=(121, 22, 76), thickness=2, circle_radius=4),\n",
    "                                        mp_drawing.DrawingSpec(color=(250, 44, 250), thickness=2, circle_radius=2),\n",
    "                                         )\n",
    "                image, left_WRIST_y_coord, right_INEDX_FINGER_DIP, left_MIDDLE_FINGER_MCP = find_coord(image, results)\n",
    "        \n",
    "            # Draw angles to image from joint list\n",
    "            image, distance, gesture = draw_and_get_finger_angles2(image, results)\n",
    "                 \n",
    "        if (gesture != 'rock1') and (gesture != 'rock2') and counter > N:\n",
    "            previous_gesture = gesture\n",
    "            counter = 0\n",
    "\n",
    "        try:\n",
    "            flag = formula_big(left_MIDDLE_FINGER_MCP[0],640,right_INEDX_FINGER_DIP[0],left_MIDDLE_FINGER_MCP[1],480,right_INEDX_FINGER_DIP[1])\n",
    "            if not flag:\n",
    "                Status = True          \n",
    "\n",
    "            if gesture and flag and Status: \n",
    "                play_chord(chord_modes[chord_mode][gesture])\n",
    "                counter = 0\n",
    "                Status = False\n",
    "\n",
    "        except:\n",
    "            try:\n",
    "                if gesture == 'rock1' and previous_gesture != 'rock1': # counter>20 讓模式間隔 N 偵以上才能切換\n",
    "                    chord_mode = change_chord_mode(chord_mode)\n",
    "                    print(\"change chord mode!\")\n",
    "                    previous_gesture = gesture\n",
    "                    \n",
    "                elif gesture == 'rock1':\n",
    "                    text = 'CHMOD'\n",
    "                    cv2.putText(image, text, (150, 200), cv2.FONT_HERSHEY_SIMPLEX,\n",
    "                      3, (0, 255, 255), 9, cv2.LINE_AA)\n",
    "                    \n",
    "                if gesture == 'rock2' and previous_gesture != 'rock2': # counter>20 讓模式間隔 N 偵以上才能切換\n",
    "                    random_chord = random.randint(1,3)\n",
    "                    #play_chord(rock_mode[random_chord])\n",
    "                    previous_gesture = gesture\n",
    "            except:\n",
    "                pass\n",
    "        \n",
    "        cv2.putText(image, 'chord mode: {}'.format(chord_mode), (380, 450), cv2.FONT_HERSHEY_SIMPLEX, 1, (0, 255, 255), 2, cv2.LINE_AA)        \n",
    "        cv2.resizeWindow(\"Hand Tracking\", 1024, 768)\n",
    "        cv2.imshow('Hand Tracking', image)\n",
    "\n",
    "        if cv2.waitKey(10) & 0xFF == ord('q'):\n",
    "            break\n",
    "            \n",
    "        counter = counter +1 \n",
    "\n",
    "cap.release()\n",
    "cv2.destroyAllWindows()"
   ]
  },
  {
   "cell_type": "code",
   "execution_count": null,
   "metadata": {},
   "outputs": [],
   "source": [
    "if not None:\n",
    "    \n",
    "    \n",
    "    print(\"yee\")"
   ]
  },
  {
   "cell_type": "code",
   "execution_count": null,
   "metadata": {},
   "outputs": [],
   "source": []
  }
 ],
 "metadata": {
  "kernelspec": {
   "display_name": "Python 3",
   "language": "python",
   "name": "python3"
  },
  "language_info": {
   "codemirror_mode": {
    "name": "ipython",
    "version": 3
   },
   "file_extension": ".py",
   "mimetype": "text/x-python",
   "name": "python",
   "nbconvert_exporter": "python",
   "pygments_lexer": "ipython3",
   "version": "3.8.8"
  }
 },
 "nbformat": 4,
 "nbformat_minor": 2
}
